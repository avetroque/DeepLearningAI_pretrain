{
 "cells": [
  {
   "cell_type": "code",
   "execution_count": 53,
   "metadata": {},
   "outputs": [
    {
     "name": "stderr",
     "output_type": "stream",
     "text": [
      "Generating train split: 40474 examples [00:00, 97929.65 examples/s] "
     ]
    },
    {
     "name": "stdout",
     "output_type": "stream",
     "text": [
      "Dataset({\n",
      "    features: ['text'],\n",
      "    num_rows: 40474\n",
      "})\n"
     ]
    },
    {
     "name": "stderr",
     "output_type": "stream",
     "text": [
      "\n"
     ]
    }
   ],
   "source": [
    "# tokenizing\n",
    "\n",
    "import datasets\n",
    "\n",
    "dataset = datasets.load_dataset(\n",
    "    \"parquet\", \n",
    "    data_files=\"./data/preprocessed_dataset.parquet\", \n",
    "    split=\"train\"\n",
    ")\n",
    "print(dataset)"
   ]
  },
  {
   "cell_type": "code",
   "execution_count": 54,
   "metadata": {},
   "outputs": [
    {
     "name": "stdout",
     "output_type": "stream",
     "text": [
      "Dataset({\n",
      "    features: ['text'],\n",
      "    num_rows: 4048\n",
      "})\n"
     ]
    }
   ],
   "source": [
    "dataset = dataset.shard(num_shards=10,index=0)\n",
    "print(dataset)"
   ]
  },
  {
   "cell_type": "markdown",
   "metadata": {},
   "source": [
    "Each model has a specific tokenizer, otherwise the model work."
   ]
  },
  {
   "cell_type": "code",
   "execution_count": 55,
   "metadata": {},
   "outputs": [
    {
     "name": "stderr",
     "output_type": "stream",
     "text": [
      "c:\\Users\\shahr\\code\\LLM_playground\\.llmenv\\Lib\\site-packages\\huggingface_hub\\file_download.py:1150: FutureWarning: `resume_download` is deprecated and will be removed in version 1.0.0. Downloads always resume when possible. If you want to force a new download, use `force_download=True`.\n",
      "  warnings.warn(\n"
     ]
    }
   ],
   "source": [
    "from transformers import AutoTokenizer\n",
    "model_path = \"upstage/SOLAR-10.7B-v1.0\"\n",
    "tokenizer = AutoTokenizer.from_pretrained(model_path,use_fast=False)"
   ]
  },
  {
   "cell_type": "code",
   "execution_count": 56,
   "metadata": {},
   "outputs": [
    {
     "data": {
      "text/plain": [
       "['▁What', '▁is', '▁my', '▁name', '▁?']"
      ]
     },
     "execution_count": 56,
     "metadata": {},
     "output_type": "execute_result"
    }
   ],
   "source": [
    "tokenizer.tokenize(\"What is my name ?\")\n"
   ]
  },
  {
   "cell_type": "code",
   "execution_count": 57,
   "metadata": {},
   "outputs": [
    {
     "name": "stdout",
     "output_type": "stream",
     "text": [
      "dict_keys(['text', 'input_ids', 'num_tokens'])\n",
      "Number of words in text: 2441\n",
      "Number of tokens in text: 642. Note that number of tokens<number of sentences.      Tokens are unique chars.\n"
     ]
    }
   ],
   "source": [
    "def tokenization(example):\n",
    "    #Tokenize\n",
    "    tokens = tokenizer.tokenize(example['text'])\n",
    "\n",
    "    #Convert token to ids\n",
    "    token_ids = tokenizer.convert_tokens_to_ids(tokens)\n",
    "\n",
    "    # Add <bos>, <eos> tokens to the front and back of token_ids\n",
    "    # Shah-removed <bos> and <eos> due to error during tokenization\n",
    "    #token_ids = [tokenizer.add_bos_token]+token_ids+[tokenizer.add_eos_token]\n",
    "    \n",
    "    example[\"input_ids\"] = token_ids\n",
    "\n",
    "    example['num_tokens'] = len(token_ids)\n",
    "    return example\n",
    "\n",
    "# Test the function\n",
    "sentence_example = dataset[0]\n",
    "sentence_example\n",
    "e = tokenization(sentence_example)\n",
    "print(e.keys())\n",
    "print(f\"Number of words in text: {len(e['text'])}\")\n",
    "print(f\"Number of tokens in text: {e['num_tokens']}. Note that number of tokens<number of sentences.\\\n",
    "      Tokens are unique chars.\")\n"
   ]
  },
  {
   "cell_type": "markdown",
   "metadata": {},
   "source": [
    "## Tokenize all examples in the pretraining dataset"
   ]
  },
  {
   "cell_type": "code",
   "execution_count": 58,
   "metadata": {},
   "outputs": [
    {
     "name": "stdout",
     "output_type": "stream",
     "text": [
      "4045\n"
     ]
    }
   ],
   "source": [
    "indices = list(range(1, 998)) + list(range(1000, len(dataset) ))\n",
    "selected_dataset = dataset.select(indices)\n",
    "print(len(selected_dataset))"
   ]
  },
  {
   "cell_type": "code",
   "execution_count": 59,
   "metadata": {},
   "outputs": [
    {
     "name": "stderr",
     "output_type": "stream",
     "text": [
      "Map:   0%|          | 0/4045 [00:00<?, ? examples/s]"
     ]
    },
    {
     "name": "stderr",
     "output_type": "stream",
     "text": [
      "Map: 100%|██████████| 4045/4045 [00:19<00:00, 205.81 examples/s]"
     ]
    },
    {
     "name": "stdout",
     "output_type": "stream",
     "text": [
      "Dataset({\n",
      "    features: ['text', 'input_ids', 'num_tokens'],\n",
      "    num_rows: 4045\n",
      "})\n"
     ]
    },
    {
     "name": "stderr",
     "output_type": "stream",
     "text": [
      "\n"
     ]
    }
   ],
   "source": [
    "dataset_token = selected_dataset.map(tokenization,load_from_cache_file=False)\n",
    "print(dataset_token)"
   ]
  },
  {
   "cell_type": "code",
   "execution_count": 60,
   "metadata": {},
   "outputs": [
    {
     "name": "stdout",
     "output_type": "stream",
     "text": [
      "{'text': \"In 1793 Zaman Shah, a grandson of Ahmad Shah Durrani, won a brief war of succession to become ruler of Afghanistan. The support of Painda Khan, chief of the Baraksai branch of the Durrani tribe, was decisive in his victory. In the next fifty year., the brothers of Zaman shah and the sons of Painda Khan were to dominate the affairs of Afghanistan. The Durrani tribe was very large with several branches and numerous clans. 1 Abmad Shah and his successors belonged to the Sadozai clan, but other clans, such as the Mohammedzai of Painda Khan, were larger and more powerful and this situation caused many problems.\\nMahmud had revolted unsuccessfully several times with Persian backing, but now with Fateh Khan's help he was able to defeat Zaman who was captured and blinded. Mahmud's position was insecure however. Persian invasions threatened, the tribes were discontented, and another brother of Zaman, Shuja-ul-Mulk, was in arms against him. In 1803 Shuja succeeded in toppling Mahmud after three years in power. But Shuja's rule was effective only in Kabul and Peshawar since Mahmud's brother Firuz held Herat, and Fateh Khan controUed the country around Kandahar. Mahmud escaped from the prison where he had been confined and in 1809 he and Fateh Khan defeated Shuja, who eventually fled to India where he was given a pension by the British, and Mabmud returned to power.\\nDuring his years in power Fateh Khan had made many enemies including Mabmud's son Kamran, and most recently Firuz. At this point Fath Ali Shah of Persia sent Mahmud an ultimatum to dispose of Fateh Khan or face a massive Persian invasion. 5 These combined factors, persuaded Mahmud to sacrifice his vizier. Fateh Khan was seized, blinded, kept prisoner, and finally cut to pieces in 1818. 6 Like Zaman, Mabmud had destroyed the man who was keeping him on the throne and his fall was equally swift. Fateh Khan's brothers led a general revolt and assumed control themselves while Mabmud, Kamran, and Firuz fled to Herat.\\nThese continued civil wars and the division of royal authority were disastrous for Afghanistan. Herat was cast adrift and now isolated and surrounded by enemies. On the west, the Persians were eager to make good their long-standing claim to the city. On the east, only the disunity of Fateh Khan's brothers prevented them from avenging him. Herat might have fallen to either one if it had not first begun to arouse the interest of outside powers.\"}\n",
      "{'text': 'I recently upgraded to iTunes 12.4 on my work laptop (Windows 10) and noticed some weird behavior with some playlists and songs. As you can see in the screenshot below some of the tracks are grayed out, but I can\\'t figure out what it means. If I double click on them they play fine, but the grayed out tracks are skipped when transitioning to the next song. For example, double clicking on Adventure of a Lifetime will play it, but once it ends, the next track that plays is Good for You.\\nI initially thought the difference was because my iCloud Music Library has a combination of purchased, iTunes Match and Apple Music tracks. However, after looking at the Get Info pop up I found the grayed out tracks were all Apple Music sourced (Off to the Races, Everglow), but there were also Apple Music tracks that weren\\'t grayed out (Hello, Paper Planes). There is also a mix of Loved and Not Loved tracks. I tried downloading from iCloud for some of the tracks, but that didn\\'t seem to help.\\nAt quick glance it is only happening to this playlist, but if I go to the Artist view and look up Coldplay or Lana Del Rey the albums with the grayed out tracks are also grayed out.\\nI did some searching online and was able to fix it by right clicking on the songs and choosing the \"Check Selection\". Not sure what this feature is for, but it causes the tracks to not be included in continuous track playing.\\nI have been very interested in the ongoing discussion about the iPad-only lifestyle on all my favorite podcasts. It has made me think a lot about how I use my iPad and more importantly how I could be using my iPad for more tasks. A few weeks ago I bought a 9.7\" iPad Pro with the intention of taking my iOS game to the next level. It has been an interesting experiment and has required me to rethink my usual workflow at both home and work.\\nThe first thing to go was going to be my \"Daily Dev Diary\". For the last few years I have been printing out a sheet of paper each day for keeping me on task and for keeping track of little things that happen during the day. Each morning I take my notes from the previous day, update the source document and then create the next day. The document has four sections to cover things I want to do over the long term, things I did yesterday, things I have to do today and random notes.\\nMigrating this process to include the iPad, was pretty easy once I settled on using Good Notes 4 as the primary note for note taking. I start by editing the master markdown document on my laptop and print the current day out to a PDF using Google Chrome. The PDF resides in OneDrive, which I use for all of my work file needs. I open up Good Notes 4 and import the document using the OneDrive integration. Once in the app I am able to use my Apple Pencil to markup the document as I had before. At the end of the day I export the document back to the OneDrive folder and voila it is ready for the next day. It was weird at first walking around with the iPad, but eventually it became natural and I don\\'t think I could go back to using the paper.\\nOne of my extracurricular activities involves being the secretary for the local youth baseball league, Merrimac Baseball. Due to my recent success with my dev diary, I thought it would be a piece of cake. I immediately ran into a problem with the first step in the process, duplicating an existing iCloud Drive document. I normally take the previous meeting minutes markdown file and make a copy, but there didn\\'t seem to be an easy way to do this in iOS. I opened up the iCloud Drive app, but it only provided me with a limited set of options. My markdown editor of choice, Byword recently added support for editing iCloud Drive documents, but I couldn\\'t figure out how to \"Save As\" or \"Duplicate\" the files. In the end I turned to Workflow for iOS and created a custom workflow that would let me select an iCloud Drive file and save it somewhere else. It took a few tries to get it right, but now I have it there to use whenever I need to copy a file. Once I duplicated the file it was all downhill from there, because I just used GoodNotes for my note taking.\\nAfter the meeting I had to transcribe my notes back into a markdown file, which I did using the new split screen feature in iOS 9. Byword had some problems displaying the full keyboard in split screen mode so that wasn\\'t great, but I did eventually figure it out. Finally after exporting the PDF to iCloud Drive I had to upload it to the baseball website. At first I wasn\\'t sure if it was possible, but once I clicked on the file chooser button on the web page in Safari, I was presented with my iCloud Drive directories and quickly found the PDF and added it to the site.\\nSo far the iPad lifestyle experiment has been successful for me because the device is so portable and I have found my original assumption about it being too much work to do things in iOS was flawed. There are definitely times when I have to put on my thinking cap and figure out the iOS way to do something, but in most cases it involves a simple solution, I will easily be able to apply in the future. I look forward to continuing this trend and expanding the amount of things I can do on this wonderful little device.\\nLast night I published the first episode of my new podcast, Kilobyte. It is a microcast where I will be talking about my thoughts on a wide range of my interests like technology, life as a software developer, the parenting and hopefully some funny anecdotes about my life. Initially I want to post 5–10 minute long episodes a couple times a week. Although I am looking forward to seeing how it evolves over time as I learn my voice and start to get better at audio editing.\\nI have been using Heroku for over a year now and have learned quite a bit along the way. I have a very simple Java web application for my work softball team, TAP Softball. It uses a Postgres database and contains basic information like the teams, schedule and standings. The database connection is configured using Spring and Hibernate, with the database URL and credentials hard coded right into the Spring context file. Using Eclipse and the Tomcat plugin I can deploy the web application locally to test changes prior to deploying to the server. I also have a local database I use for testing database changes before pushing to the live database. In the Spring context file I have a commented out localhost datasource defined, which I swap in when testing locally.\\nYesterday, I received an email from Heroku that my database was going to be upgraded with the latest Postgres changes. A few minutes later an email confirmed the upgrade finished successfully. I had seen these messages before and thought nothing of it until this morning when I tried to use the site and got a big fat stack trace.\\nIt didn\\'t take long to see the database URL and credentials had changed, which as you probably figured out was problematic since I had them hard coded. I quickly scrambled to fix the issue because I didn\\'t have access to my MacBook. The Dropbox deployment method didn\\'t work so I installed the Heroku Toolbelt and was able to update the database connection information. The site was back online, so I took a breather and then emailed support to find out what was going on.\\nSupport promptly responded to my message and explained that if an upgrade doesn\\'t go perfectly the database will move to a different address and reset the credentials. He also said I should be loading my database connection information from the environment variables, so it will start up correctly should the database move again. I did a little searching and found Connecting to Relational Databases on Heroku with Java. After scrolling down I quickly found that I had to add a new Spring bean that would instantiate a Java URI using the DATABASE_URL environment variable. I also had to update my existing dataSource bean to get the host, port, path, username and password from the URI bean. I pushed the change up to Heroku and it worked.\\nMy next challenge was to get my development environment working again, because now Tomcat was getting a null pointer exception when trying to generate the URI bean. After some trial and error I figured out that I needed to modify the run configuration for the Tomcat server in Eclipse to have a new entry in the Environment tab for the DATABASE_URL. The value to use came from my app\\'s database page on the Heroku site, in the last item called URL. Making this change and starting the server loaded the homepage, but when I attempted to load a page that used the database I received an error about SSL.\\nI remembered having problems connecting to the database originally, and to fix it I added ?ssl=true&sslfactory=org.postgresql.ssl.NonValidatingFactory to the end of the path. Unfortunately just sticking that onto the end of my Run Configuration\\'s environment variable didn\\'t work. I also had to add + \\'?\\' + @dbUrl.getQuery() to the end of the url property in my datasource bean. In the URI the part after the question mark is called the query and by appending it to the end of the path it fixed my issue. I pushed the change up to the server and it still worked fine. The best part is now I can easily create separate run configurations for the remote and local databases rather than randomly updating one of my Spring configuration files.', 'input_ids': [315, 5915, 582, 23189, 298, 613, 28738, 11056, 28705, 28740, 28750, 28723, 28781, 356, 586, 771, 19891, 325, 7984, 28705, 28740, 28734, 28731, 304, 8295, 741, 10481, 6174, 395, 741, 1156, 23939, 304, 9184, 28723, 1136, 368, 541, 1032, 297, 272, 18794, 10672, 3624, 741, 302, 272, 11637, 460, 11870, 286, 575, 28725, 562, 315, 541, 28742, 28707, 5248, 575, 767, 378, 2825, 28723, 1047, 315, 3579, 6046, 356, 706, 590, 1156, 4433, 28725, 562, 272, 11870, 286, 575, 11637, 460, 1321, 5885, 739, 8265, 288, 298, 272, 1679, 4034, 28723, 1263, 2757, 28725, 3579, 24675, 356, 19772, 482, 302, 264, 393, 335, 6244, 622, 1156, 378, 28725, 562, 2327, 378, 9675, 28725, 272, 1679, 3508, 369, 8928, 349, 5801, 354, 995, 28723, 13, 28737, 12735, 1654, 272, 5133, 403, 1096, 586, 613, 13113, 7762, 10812, 659, 264, 9470, 302, 13471, 28725, 613, 28738, 11056, 15127, 304, 10244, 7762, 11637, 28723, 2993, 28725, 1024, 2526, 438, 272, 2483, 19790, 1852, 582, 315, 1419, 272, 11870, 286, 575, 11637, 654, 544, 10244, 7762, 18193, 1354, 325, 3922, 298, 272, 399, 2089, 28725, 12763, 1727, 336, 557, 562, 736, 654, 835, 10244, 7762, 11637, 369, 8658, 28742, 28707, 11870, 286, 575, 325, 16230, 28725, 20038, 1641, 8782, 609, 1387, 349, 835, 264, 6750, 302, 393, 2947, 304, 2280, 393, 2947, 11637, 28723, 315, 3851, 6726, 288, 477, 613, 13113, 354, 741, 302, 272, 11637, 28725, 562, 369, 1539, 28742, 28707, 1709, 298, 1316, 28723, 13, 3167, 2936, 15853, 378, 349, 865, 9615, 298, 456, 1156, 1703, 28725, 562, 513, 315, 576, 298, 272, 27055, 2204, 304, 913, 582, 19260, 1674, 442, 393, 2238, 5526, 1298, 28724, 272, 19888, 395, 272, 11870, 286, 575, 11637, 460, 835, 11870, 286, 575, 28723, 13, 28737, 863, 741, 12869, 3270, 304, 403, 2358, 298, 6293, 378, 486, 1103, 24675, 356, 272, 9184, 304, 14517, 272, 345, 3828, 26909, 2586, 2280, 1864, 767, 456, 4480, 349, 354, 28725, 562, 378, 10110, 272, 11637, 298, 459, 347, 4658, 297, 12734, 3508, 4543, 28723, 13, 28737, 506, 750, 1215, 6348, 297, 272, 15260, 8387, 684, 272, 28696, 28733, 5041, 16218, 356, 544, 586, 6656, 21736, 28713, 28723, 661, 659, 1269, 528, 1073, 264, 2055, 684, 910, 315, 938, 586, 28696, 304, 680, 21485, 910, 315, 829, 347, 1413, 586, 28696, 354, 680, 9796, 28723, 330, 1664, 4587, 3584, 315, 7620, 264, 28705, 28774, 28723, 28787, 28739, 28696, 1133, 395, 272, 12782, 302, 3344, 586, 23487, 2039, 298, 272, 1679, 2184, 28723, 661, 659, 750, 396, 5853, 6878, 304, 659, 3030, 528, 298, 312, 24036, 586, 8434, 771, 4356, 438, 1560, 1611, 304, 771, 28723, 13, 1014, 907, 1970, 298, 576, 403, 1404, 298, 347, 586, 345, 28757, 5186, 6624, 6216, 628, 2586, 1263, 272, 1432, 1664, 1267, 315, 506, 750, 19246, 575, 264, 12173, 302, 3830, 1430, 1370, 354, 7603, 528, 356, 3638, 304, 354, 7603, 3508, 302, 1628, 1722, 369, 4804, 1938, 272, 1370, 28723, 7066, 3970, 315, 1388, 586, 8321, 477, 272, 3454, 1370, 28725, 4009, 272, 2832, 3248, 304, 868, 2231, 272, 1679, 1370, 28723, 415, 3248, 659, 2308, 12458, 298, 2796, 1722, 315, 947, 298, 511, 754, 272, 1043, 1850, 28725, 1722, 315, 863, 12091, 28725, 1722, 315, 506, 298, 511, 3154, 304, 5509, 8321, 28723, 13, 28755, 3421, 1077, 456, 1759, 298, 3024, 272, 28696, 28725, 403, 3468, 3411, 2327, 315, 11591, 356, 1413, 5801, 16254, 28705, 28781, 390, 272, 6258, 5039, 354, 5039, 3344, 28723, 315, 1149, 486, 19617, 272, 5968, 1716, 3254, 3248, 356, 586, 19891, 304, 2682, 272, 1868, 1370, 575, 298, 264, 18520, 1413, 6182, 25921, 28723, 415, 18520, 605, 1926, 297, 2387, 28757, 6016, 28725, 690, 315, 938, 354, 544, 302, 586, 771, 1729, 3208, 28723, 315, 1565, 582, 5801, 16254, 28705, 28781, 304, 726, 272, 3248, 1413, 272, 2387, 28757, 6016, 14678, 28723, 5713, 297, 272, 954, 315, 837, 2358, 298, 938, 586, 10244, 367, 16935, 298, 1716, 715, 272, 3248, 390, 315, 553, 1159, 28723, 1794, 272, 948, 302, 272, 1370, 315, 3223, 272, 3248, 852, 298, 272, 2387, 28757, 6016, 14249, 304, 1776, 5945, 378, 349, 4313, 354, 272, 1679, 1370, 28723, 661, 403, 10481, 438, 907, 7312, 1401, 395, 272, 28696, 28725, 562, 6959, 378, 3246, 4229, 304, 315, 949, 28742, 28707, 1073, 315, 829, 576, 852, 298, 1413, 272, 3830, 28723, 13, 6167, 302, 586, 9237, 323, 324, 1491, 1098, 6290, 14657, 1250, 272, 16916, 354, 272, 1862, 9539, 14672, 10674, 28725, 351, 694, 321, 323, 7564, 2667, 28723, 16043, 298, 586, 5391, 2288, 395, 586, 1847, 25284, 28725, 315, 1654, 378, 682, 347, 264, 5511, 302, 14833, 28723, 315, 5347, 5591, 778, 264, 2700, 395, 272, 907, 3707, 297, 272, 1759, 28725, 1415, 1256, 1077, 396, 6594, 613, 13113, 16857, 3248, 28723, 315, 12336, 1388, 272, 3454, 5283, 3486, 1716, 3254, 1729, 304, 1038, 264, 3082, 28725, 562, 736, 1539, 28742, 28707, 1709, 298, 347, 396, 3411, 1069, 298, 511, 456, 297, 23487, 28723, 315, 4923, 582, 272, 613, 13113, 16857, 954, 28725, 562, 378, 865, 3857, 528, 395, 264, 6516, 808, 302, 2877, 28723, 1984, 1716, 3254, 7546, 302, 4782, 28725, 2463, 2186, 5915, 3886, 1760, 354, 19617, 613, 13113, 16857, 10181, 28725, 562, 315, 3481, 28742, 28707, 5248, 575, 910, 298, 345, 11343, 1136, 28739, 442, 345, 17379, 13112, 28739, 272, 5373, 28723, 560, 272, 948, 315, 2897, 298, 5066, 4356, 354, 23487, 304, 3859, 264, 2460, 771, 4356, 369, 682, 1346, 528, 5339, 396, 613, 13113, 16857, 1729, 304, 4602, 378, 8622, 1112, 28723, 661, 2056, 264, 1664, 14744, 298, 625, 378, 1103, 28725, 562, 1055, 315, 506, 378, 736, 298, 938, 11326, 315, 927, 298, 3082, 264, 1729, 28723, 5713, 315, 1415, 23080, 272, 1729, 378, 403, 544, 1060, 19156, 477, 736, 28725, 1096, 315, 776, 1307, 5801, 2601, 274, 354, 586, 5039, 3344, 28723, 13, 9169, 272, 5283, 315, 553, 298, 24330, 5748, 586, 8321, 852, 778, 264, 1716, 3254, 1729, 28725, 690, 315, 863, 1413, 272, 633, 7925, 4921, 4480, 297, 23487, 28705, 28774, 28723, 2463, 2186, 553, 741, 4418, 4249, 288, 272, 2173, 19073, 297, 7925, 4921, 4388, 579, 369, 2723, 28742, 28707, 1598, 28725, 562, 315, 863, 6959, 5248, 378, 575, 28723, 8126, 1024, 3223, 288, 272, 18520, 298, 613, 13113, 16857, 315, 553, 298, 12299, 378, 298, 272, 14672, 4400, 28723, 1794, 907, 315, 2723, 28742, 28707, 1864, 513, 378, 403, 2572, 28725, 562, 2327, 315, 26399, 356, 272, 1729, 2183, 20738, 6261, 356, 272, 4686, 2884, 297, 12512, 1900, 28725, 315, 403, 7567, 395, 586, 613, 13113, 16857, 1863, 2420, 304, 4377, 1419, 272, 18520, 304, 3886, 378, 298, 272, 3455, 28723, 13, 5142, 2082, 272, 28696, 16218, 6878, 659, 750, 6053, 354, 528, 1096, 272, 3895, 349, 579, 26337, 304, 315, 506, 1419, 586, 3493, 14776, 684, 378, 1250, 1368, 1188, 771, 298, 511, 1722, 297, 23487, 403, 22904, 286, 28723, 1387, 460, 6304, 2421, 739, 315, 506, 298, 1658, 356, 586, 4195, 2058, 304, 5248, 575, 272, 23487, 1069, 298, 511, 1545, 28725, 562, 297, 1080, 4469, 378, 14657, 264, 3588, 5165, 28725, 315, 622, 5061, 347, 2358, 298, 5580, 297, 272, 3437, 28723, 315, 913, 3814, 298, 15317, 456, 9156, 304, 20767, 272, 3558, 302, 1722, 315, 541, 511, 356, 456, 8590, 1628, 3895, 28723, 13, 7202, 2125, 315, 4775, 272, 907, 9560, 302, 586, 633, 21736, 28725, 16098, 13440, 424, 28723, 661, 349, 264, 7817, 2867, 970, 315, 622, 347, 4434, 684, 586, 7403, 356, 264, 5335, 2819, 302, 586, 10299, 737, 5514, 28725, 1411, 390, 264, 3930, 21782, 28725, 272, 2564, 288, 304, 20627, 741, 10032, 396, 760, 28715, 4769, 684, 586, 1411, 28723, 6829, 1929, 315, 947, 298, 1704, 28705, 28782, 28816, 28740, 28734, 7117, 1043, 17142, 264, 4308, 2421, 264, 1819, 28723, 5800, 315, 837, 2526, 3814, 298, 6252, 910, 378, 683, 18725, 754, 727, 390, 315, 2822, 586, 3441, 304, 1149, 298, 625, 1873, 438, 10466, 19617, 28723, 13, 28737, 506, 750, 1413, 2584, 17776, 354, 754, 264, 879, 1055, 304, 506, 5996, 3448, 264, 2286, 2267, 272, 1069, 28723, 315, 506, 264, 1215, 3588, 11639, 4686, 4993, 354, 586, 771, 2664, 2667, 1918, 28725, 320, 2074, 6001, 2667, 28723, 661, 6098, 264, 5112, 20697, 7499, 304, 5876, 6471, 1871, 737, 272, 6941, 28725, 9442, 304, 1876, 742, 28723, 415, 7499, 5132, 349, 21529, 1413, 9199, 304, 382, 3858, 25134, 28725, 395, 272, 7499, 9066, 304, 21429, 1856, 277, 6546, 1103, 778, 272, 9199, 2758, 1729, 28723, 9616, 413, 11458, 304, 272, 4660, 6272, 13062, 315, 541, 15258, 272, 4686, 4993, 17600, 298, 1369, 4435, 4681, 298, 15258, 288, 298, 272, 5116, 28723, 315, 835, 506, 264, 1862, 7499, 315, 938, 354, 8260, 7499, 4435, 1159, 13884, 298, 272, 2943, 7499, 28723, 560, 272, 9199, 2758, 1729, 315, 506, 264, 22191, 575, 1862, 3404, 3046, 293, 780, 4057, 28725, 690, 315, 20166, 297, 739, 8260, 17600, 28723, 13, 5613, 10479, 28725, 315, 3874, 396, 4927, 477, 2584, 17776, 369, 586, 7499, 403, 1404, 298, 347, 582, 23189, 395, 272, 7345, 5112, 20697, 4435, 28723, 330, 1664, 3486, 2062, 396, 4927, 11367, 272, 16518, 5967, 10130, 28723, 315, 553, 2598, 1167, 8570, 1159, 304, 1654, 2511, 302, 378, 1996, 456, 3970, 739, 315, 3851, 298, 938, 272, 3455, 304, 1433, 264, 2032, 6370, 7232, 10718, 28723, 13, 1313, 1539, 28742, 28707, 1388, 1043, 298, 1032, 272, 7499, 9066, 304, 21429, 553, 4648, 28725, 690, 390, 368, 3049, 14775, 575, 403, 2700, 1711, 1854, 315, 553, 706, 1856, 277, 6546, 28723, 315, 4377, 7375, 1379, 1006, 298, 6293, 272, 4291, 1096, 315, 1539, 28742, 28707, 506, 2735, 298, 586, 5325, 10670, 28723, 415, 22732, 2858, 23039, 2038, 1539, 28742, 28707, 771, 579, 315, 11540, 272, 2584, 17776, 12877, 28726, 1807, 304, 403, 2358, 298, 4009, 272, 7499, 5132, 1871, 28723, 415, 3455, 403, 852, 3270, 28725, 579, 315, 2056, 264, 3412, 1223, 304, 868, 877, 2384, 1760, 298, 1300, 575, 767, 403, 1404, 356, 28723, 13, 9452, 11510, 346, 15249, 298, 586, 2928, 304, 7955, 369, 513, 396, 16518, 2368, 28742, 28707, 576, 9943, 272, 7499, 622, 2318, 298, 264, 1581, 2962, 304, 9627, 272, 21429, 28723, 650, 835, 773, 315, 1023, 347, 14617, 586, 7499, 5132, 1871, 477, 272, 4466, 8925, 28725, 579, 378, 622, 1149, 582, 12742, 1023, 272, 7499, 2318, 1076, 28723, 315, 863, 264, 1628, 12869, 304, 1419, 21873, 288, 298, 5855, 1249, 9888, 25716, 356, 2584, 17776, 395, 11639, 28723, 2530, 11445, 288, 1060, 315, 4377, 1419, 369, 315, 553, 298, 967, 264, 633, 9199, 24853, 369, 682, 1140, 7764, 380, 264, 11639, 22356, 1413, 272, 384, 962, 2192, 11257, 28730, 5343, 4466, 7860, 28723, 315, 835, 553, 298, 4009, 586, 6594, 1178, 4220, 24853, 298, 625, 272, 3434, 28725, 2248, 28725, 2439, 28725, 14412, 304, 7908, 477, 272, 22356, 24853, 28723, 315, 9012, 272, 2268, 582, 298, 2584, 17776, 304, 378, 4198, 28723, 13, 5183, 1679, 8035, 403, 298, 625, 586, 4099, 4466, 2739, 1076, 28725, 1096, 1055, 4660, 6272, 403, 2719, 264, 1241, 10300, 5851, 739, 2942, 298, 8270, 272, 22356, 24853, 28723, 2530, 741, 9070, 304, 2118, 315, 14775, 575, 369, 315, 3236, 298, 9239, 272, 1482, 7427, 354, 272, 4660, 6272, 5116, 297, 413, 11458, 298, 506, 264, 633, 4905, 297, 272, 14802, 7683, 354, 272, 384, 962, 2192, 11257, 28730, 5343, 28723, 415, 1192, 298, 938, 1988, 477, 586, 954, 28742, 28713, 7499, 2884, 356, 272, 2584, 17776, 3455, 28725, 297, 272, 1432, 2515, 1987, 9066, 28723, 19387, 456, 2268, 304, 5615, 272, 5116, 10773, 272, 1611, 3005, 28725, 562, 739, 315, 15335, 298, 3442, 264, 2884, 369, 1307, 272, 7499, 315, 3874, 396, 2118, 684, 20669, 28723, 13, 28737, 10216, 2461, 4418, 19135, 298, 272, 7499, 10806, 28725, 304, 298, 6293, 378, 315, 3886, 1550, 16134, 28746, 3307, 28800, 16134, 13001, 28746, 1909, 28723, 3192, 20697, 2981, 28723, 16134, 28723, 7525, 4794, 1077, 4990, 298, 272, 948, 302, 272, 2439, 28723, 13445, 776, 27322, 369, 5380, 272, 948, 302, 586, 6320, 20058, 28742, 28713, 4466, 7860, 1539, 28742, 28707, 771, 28723, 315, 835, 553, 298, 967, 648, 464, 3725, 648, 802, 2684, 5140, 28723, 527, 3294, 470, 298, 272, 948, 302, 272, 6855, 3321, 297, 586, 3046, 293, 780, 24853, 28723, 560, 272, 22356, 272, 744, 1024, 272, 2996, 1716, 349, 1987, 272, 5709, 304, 486, 954, 2570, 378, 298, 272, 948, 302, 272, 2439, 378, 6321, 586, 4291, 28723, 315, 9012, 272, 2268, 582, 298, 272, 5116, 304, 378, 1309, 4198, 4433, 28723, 415, 1489, 744, 349, 1055, 315, 541, 5061, 2231, 7681, 1482, 24991, 354, 272, 9308, 304, 1862, 3046, 25716, 3210, 821, 24678, 26187, 624, 302, 586, 9199, 7427, 5373, 28723], 'num_tokens': 2098}\n"
     ]
    }
   ],
   "source": [
    "sample = dataset[0]\n",
    "sample_token = dataset_token[0]\n",
    "print(sample)\n",
    "print(sample_token)\n"
   ]
  }
 ],
 "metadata": {
  "kernelspec": {
   "display_name": "llm_kernel",
   "language": "python",
   "name": "llm_kernel"
  },
  "language_info": {
   "codemirror_mode": {
    "name": "ipython",
    "version": 3
   },
   "file_extension": ".py",
   "mimetype": "text/x-python",
   "name": "python",
   "nbconvert_exporter": "python",
   "pygments_lexer": "ipython3",
   "version": "3.11.4"
  }
 },
 "nbformat": 4,
 "nbformat_minor": 2
}
