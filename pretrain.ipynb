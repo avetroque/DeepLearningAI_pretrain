{
 "cells": [
  {
   "cell_type": "code",
   "execution_count": 9,
   "metadata": {},
   "outputs": [
    {
     "name": "stderr",
     "output_type": "stream",
     "text": [
      "Downloading data: 100%|██████████| 150M/150M [01:23<00:00, 1.81MB/s] \n",
      "Generating train split: 100%|██████████| 60000/60000 [00:01<00:00, 45002.18 examples/s]\n"
     ]
    },
    {
     "name": "stdout",
     "output_type": "stream",
     "text": [
      "Dataset({\n",
      "    features: ['text', 'meta'],\n",
      "    num_rows: 60000\n",
      "})\n"
     ]
    }
   ],
   "source": [
    "import datasets\n",
    "import tqdm as notebook_tqdm\n",
    "\n",
    "pretraining_dataset = datasets.load_dataset(\n",
    "    \"upstage/Pretraining_Dataset\",\n",
    "    split = \"train\"\n",
    ")\n",
    "\n",
    "print(pretraining_dataset)"
   ]
  },
  {
   "cell_type": "code",
   "execution_count": 14,
   "metadata": {},
   "outputs": [
    {
     "name": "stdout",
     "output_type": "stream",
     "text": [
      "Tadpole Origami- Here is another tutorial for making very simple origami for children. This Origami is beginner level. Let us make Tadpole origami. Tadpole is a young frog they are amphibians when I was a child I love to play with tadpole they are sticky to touch and soft. Anyway, lets do the origami thing. Just follow carefully the diagram and compare your work to the final result on the upper left corner. Enjoy!\n"
     ]
    }
   ],
   "source": [
    "pretraining_dataset = pretraining_dataset.select_columns([\"text\"])\n",
    "print(pretraining_dataset[2][\"text\"][:700])"
   ]
  },
  {
   "cell_type": "code",
   "execution_count": null,
   "metadata": {},
   "outputs": [],
   "source": []
  }
 ],
 "metadata": {
  "kernelspec": {
   "display_name": "llm_kernel",
   "language": "python",
   "name": "llm_kernel"
  },
  "language_info": {
   "codemirror_mode": {
    "name": "ipython",
    "version": 3
   },
   "file_extension": ".py",
   "mimetype": "text/x-python",
   "name": "python",
   "nbconvert_exporter": "python",
   "pygments_lexer": "ipython3",
   "version": "3.11.4"
  }
 },
 "nbformat": 4,
 "nbformat_minor": 2
}
